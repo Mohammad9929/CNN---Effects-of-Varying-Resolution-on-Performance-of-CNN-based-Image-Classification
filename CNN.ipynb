{
  "cells": [
    {
      "attachments": {},
      "cell_type": "markdown",
      "metadata": {
        "id": "q8oyks2IiiJq"
      },
      "source": [
        "Implementation of\n",
        "* `Effects of Varying Resolution on Performance of CNN based Image Classification`"
      ]
    },
    {
      "cell_type": "markdown",
      "metadata": {
        "id": "z1HxaDfaiiKD"
      },
      "source": [
        "Import Libraries"
      ]
    },
    {
      "cell_type": "code",
      "execution_count": 1,
      "metadata": {
        "id": "sTnpB0PPitWA"
      },
      "outputs": [],
      "source": [
        "import matplotlib.pyplot as plt\n",
        "import numpy as np\n",
        "import torch\n",
        "import torchvision\n",
        "from torch.utils.data import DataLoader, random_split\n",
        "from torchvision import datasets, transforms\n",
        "from torch import nn, optim\n",
        "from torchinfo import summary\n",
        "from torchmetrics import Accuracy, Precision, F1Score"
      ]
    },
    {
      "cell_type": "markdown",
      "metadata": {
        "id": "5t6o-iK82cLl"
      },
      "source": [
        "Set device"
      ]
    },
    {
      "cell_type": "code",
      "execution_count": 2,
      "metadata": {
        "id": "hXIo58psqYCz"
      },
      "outputs": [],
      "source": [
        "device = torch.device('cuda' if torch.cuda.is_available() else 'cpu')"
      ]
    },
    {
      "cell_type": "markdown",
      "metadata": {
        "id": "0LCdMhEq2qzX"
      },
      "source": [
        "Use `transforms`:\n",
        "\n",
        "1.   data to tensors\n",
        "2.   normalize data -1 to 1\n"
      ]
    },
    {
      "cell_type": "code",
      "execution_count": 3,
      "metadata": {
        "id": "FShK0An9ma_j"
      },
      "outputs": [],
      "source": [
        "tf = transforms.Compose([transforms.ToTensor(),\n",
        "                         transforms.Normalize( (0.5 , 0.5 , 0.5) , (0.5 , 0.5 , 0.5))])"
      ]
    },
    {
      "cell_type": "markdown",
      "metadata": {
        "id": "BcwgwUsQ3B8i"
      },
      "source": [
        "Download Datas"
      ]
    },
    {
      "cell_type": "code",
      "execution_count": null,
      "metadata": {
        "colab": {
          "base_uri": "https://localhost:8080/"
        },
        "id": "HKXSD-M2jDyz",
        "outputId": "26c84627-8b64-496b-8730-775c07b78816"
      },
      "outputs": [
        {
          "name": "stdout",
          "output_type": "stream",
          "text": [
            "Files already downloaded and verified\n"
          ]
        }
      ],
      "source": [
        "dataset_train = datasets.CIFAR10(root = './datas' , download=True , transform=tf , train=True)\n",
        "dataset_test  = datasets.CIFAR10(root = './datas' , download=False , transform=tf , train=False)"
      ]
    },
    {
      "cell_type": "code",
      "execution_count": null,
      "metadata": {
        "colab": {
          "base_uri": "https://localhost:8080/"
        },
        "id": "2-ep3O6F4etI",
        "outputId": "625289c4-60ff-49f9-e31b-827b9bf7508b"
      },
      "outputs": [
        {
          "name": "stdout",
          "output_type": "stream",
          "text": [
            "{0: 'airplane', 1: 'automobile', 2: 'bird', 3: 'cat', 4: 'deer', 5: 'dog', 6: 'frog', 7: 'horse', 8: 'ship', 9: 'truck'}\n"
          ]
        }
      ],
      "source": [
        "classes = dict(zip(range(10) ,dataset_train.classes))\n",
        "print(classes)"
      ]
    },
    {
      "cell_type": "markdown",
      "metadata": {
        "id": "KpgwF3Q23Sq9"
      },
      "source": [
        "Use these transforms to rescale images"
      ]
    },
    {
      "cell_type": "code",
      "execution_count": 5,
      "metadata": {
        "id": "vvuNCvhOhdZD"
      },
      "outputs": [],
      "source": [
        "tf08 = transforms.Resize([8,8])\n",
        "tf16 = transforms.Resize([16,16])\n",
        "tf32 = transforms.Resize([32,32])"
      ]
    },
    {
      "cell_type": "markdown",
      "metadata": {
        "id": "FnKYgBgF3-wx"
      },
      "source": [
        "Load 10 Random Data and display"
      ]
    },
    {
      "cell_type": "code",
      "execution_count": null,
      "metadata": {
        "id": "zsTi8_pfl19B"
      },
      "outputs": [],
      "source": [
        "torch.manual_seed(15)\n",
        "trainloader = DataLoader(dataset_train , 10 , shuffle = True)\n",
        "data , label = next(iter(trainloader))"
      ]
    },
    {
      "cell_type": "code",
      "execution_count": null,
      "metadata": {
        "colab": {
          "base_uri": "https://localhost:8080/"
        },
        "id": "VAu7QEs8ocIT",
        "outputId": "1d5a8289-6b4f-405f-cc21-713bf6727aa6"
      },
      "outputs": [
        {
          "name": "stdout",
          "output_type": "stream",
          "text": [
            "['automobile', 'truck', 'ship', 'dog', 'ship', 'automobile', 'automobile', 'ship', 'airplane', 'deer']\n"
          ]
        }
      ],
      "source": [
        "print([classes[i.item()] for i in label])"
      ]
    },
    {
      "cell_type": "code",
      "execution_count": null,
      "metadata": {
        "id": "6pDhe6OTog5H"
      },
      "outputs": [],
      "source": [
        "def plot_scale_data(data : torch.Tensor , label : torch.Tensor):\n",
        "  l = len(data)\n",
        "  img = torchvision.utils.make_grid(torch.concat([data,\n",
        "                                                  tf32(tf16(data)),\n",
        "                                                  tf32(tf08(data))]) , l)\n",
        "  plt.figure(figsize=(20,15))\n",
        "  plt.imshow(np.transpose(img.numpy()/2 + 0.5 , (1,2,0)))\n",
        "  plt.title([classes[i.item()] for i in label])\n",
        "  plt.axis('off')\n",
        "  plt.show()"
      ]
    },
    {
      "cell_type": "code",
      "execution_count": null,
      "metadata": {
        "colab": {
          "base_uri": "https://localhost:8080/",
          "height": 318
        },
        "id": "K8S9yiaH5UEu",
        "outputId": "7c5f0b24-f402-46e2-b115-bf29ece78133"
      },
      "outputs": [
        {
          "data": {
            "image/png": "[encoded data removed]",
            "text/plain": [
              "<Figure size 2000x1500 with 1 Axes>"
            ]
          },
          "metadata": {},
          "output_type": "display_data"
        }
      ],
      "source": [
        "plot_scale_data(data , label)"
      ]
    },
    {
      "attachments": {},
      "cell_type": "markdown",
      "metadata": {
        "id": "ZlOCovOI80dI"
      },
      "source": [
        "Train - Test - Validation"
      ]
    },
    {
      "cell_type": "code",
      "execution_count": null,
      "metadata": {
        "id": "xpEAIf9iRHdL"
      },
      "outputs": [],
      "source": [
        "test_size = len(dataset_test)\n",
        "val_size = test_size\n",
        "train_size = len(dataset_train) - val_size\n",
        "train_set , val_set = random_split(dataset_train , [train_size , val_size])"
      ]
    },
    {
      "cell_type": "code",
      "execution_count": null,
      "metadata": {
        "colab": {
          "base_uri": "https://localhost:8080/"
        },
        "id": "IfL4mLb_RHdM",
        "outputId": "bd901b65-92dc-4394-8d88-3eee8480e717"
      },
      "outputs": [
        {
          "name": "stdout",
          "output_type": "stream",
          "text": [
            "train set size: 40000\n",
            "validation set size: 10000\n",
            "test set size: 10000\n"
          ]
        }
      ],
      "source": [
        "print(f'train set size: {len(train_set)}')\n",
        "print(f'validation set size: {len(val_set)}')\n",
        "print(f'test set size: {len(dataset_test)}')"
      ]
    },
    {
      "cell_type": "markdown",
      "metadata": {
        "id": "oL8C0FEERHdN"
      },
      "source": [
        "Define network"
      ]
    },
    {
      "cell_type": "code",
      "execution_count": 6,
      "metadata": {
        "id": "BPJ2WflYRHdN"
      },
      "outputs": [],
      "source": [
        "class MyNet(nn.Module):\n",
        "    def __init__(self):\n",
        "        super(MyNet , self).__init__()\n",
        "        self.Conv2D_1 = nn.Conv2d(3 , 32 , 3)\n",
        "        self.Conv2D_2 = nn.Conv2d(32 , 32 , 3)\n",
        "        self.Conv2D_3 = nn.Conv2d(32 , 32 , 3)\n",
        "        self.dropout1 = nn.Dropout(0.25)\n",
        "        self.Conv2D_4 = nn.Conv2d(32 , 64 , 3)\n",
        "        self.Conv2D_5 = nn.Conv2d(64 , 64 , 3)\n",
        "        self.Conv2D_6 = nn.Conv2d(64 , 64 , 3)\n",
        "        self.dropout2 = nn.Dropout(0.25)\n",
        "        self.Dence_1  = nn.Linear(64*3*3 , 512)\n",
        "        self.dropout3 = nn.Dropout(0.5)\n",
        "        self.Dence_2  = nn.Linear(512,10)\n",
        "\n",
        "    def forward(self , x):\n",
        "        x = torch.relu(self.Conv2D_1(x))\n",
        "        x = torch.relu(self.Conv2D_2(x))\n",
        "        x = torch.relu(self.Conv2D_3(x))\n",
        "        x = torch.max_pool2d(x , 2)\n",
        "        x = self.dropout1(x)\n",
        "        #-------------------------------#\n",
        "        x = torch.relu(self.Conv2D_4(x))\n",
        "        x = torch.relu(self.Conv2D_5(x))\n",
        "        x = torch.relu(self.Conv2D_6(x))\n",
        "        x = torch.max_pool2d(x , 2)\n",
        "        x = self.dropout2(x)\n",
        "        x = torch.flatten(x , 1)\n",
        "        #-------------------------------#\n",
        "        x = torch.relu(self.Dence_1(x))\n",
        "        x = self.dropout3(x)\n",
        "        #-------------------------------#\n",
        "        x = torch.softmax(self.Dence_2(x) , -1)\n",
        "        return x"
      ]
    },
    {
      "cell_type": "markdown",
      "metadata": {
        "id": "9poce4FFRHdN"
      },
      "source": [
        "Call object `net` from `MyNet` and summarize it"
      ]
    },
    {
      "cell_type": "code",
      "execution_count": 8,
      "metadata": {
        "colab": {
          "base_uri": "https://localhost:8080/"
        },
        "id": "qPJpMjqgRHdO",
        "outputId": "ce6e94f1-57a6-45bb-ed62-c7205e8ff794"
      },
      "outputs": [
        {
          "data": {
            "text/plain": [
              "==========================================================================================\n",
              "Layer (type:depth-idx)                   Output Shape              Param #\n",
              "==========================================================================================\n",
              "MyNet                                    [1, 10]                   --\n",
              "├─Conv2d: 1-1                            [1, 32, 30, 30]           896\n",
              "├─Conv2d: 1-2                            [1, 32, 28, 28]           9,248\n",
              "├─Conv2d: 1-3                            [1, 32, 26, 26]           9,248\n",
              "├─Dropout: 1-4                           [1, 32, 13, 13]           --\n",
              "├─Conv2d: 1-5                            [1, 64, 11, 11]           18,496\n",
              "├─Conv2d: 1-6                            [1, 64, 9, 9]             36,928\n",
              "├─Conv2d: 1-7                            [1, 64, 7, 7]             36,928\n",
              "├─Dropout: 1-8                           [1, 64, 3, 3]             --\n",
              "├─Linear: 1-9                            [1, 512]                  295,424\n",
              "├─Dropout: 1-10                          [1, 512]                  --\n",
              "├─Linear: 1-11                           [1, 10]                   5,130\n",
              "==========================================================================================\n",
              "Total params: 412,298\n",
              "Trainable params: 412,298\n",
              "Non-trainable params: 0\n",
              "Total mult-adds (M): 21.65\n",
              "==========================================================================================\n",
              "Input size (MB): 0.01\n",
              "Forward/backward pass size (MB): 0.74\n",
              "Params size (MB): 1.65\n",
              "Estimated Total Size (MB): 2.40\n",
              "=========================================================================================="
            ]
          },
          "execution_count": 8,
          "metadata": {},
          "output_type": "execute_result"
        }
      ],
      "source": [
        "torch.manual_seed(15)\n",
        "net = MyNet().to(device=device)\n",
        "summary(net , (1,3,32,32))"
      ]
    },
    {
      "cell_type": "markdown",
      "metadata": {
        "id": "S5L4zn9nRHdP"
      },
      "source": [
        "Loss Function and Optimizer\n",
        "<br>\n",
        "Train and Validation loader"
      ]
    },
    {
      "cell_type": "code",
      "execution_count": null,
      "metadata": {
        "id": "tzlRzJgIRHdP"
      },
      "outputs": [],
      "source": [
        "lr = 0.0001\n",
        "criterion = nn.CrossEntropyLoss()\n",
        "optimizer = optim.Adam(net.parameters(), lr)"
      ]
    },
    {
      "cell_type": "code",
      "execution_count": null,
      "metadata": {
        "id": "utr6uTs0RHdQ"
      },
      "outputs": [],
      "source": [
        "batch_size = 32\n",
        "trainloader = DataLoader(train_set , batch_size=batch_size , shuffle=True)\n",
        "val_loader = DataLoader(val_set , batch_size= len(val_set) , shuffle=False)"
      ]
    },
    {
      "cell_type": "code",
      "execution_count": null,
      "metadata": {
        "id": "NKAN6836W4lY"
      },
      "outputs": [],
      "source": [
        "v_d , v_t = next(iter(val_loader))"
      ]
    },
    {
      "cell_type": "markdown",
      "metadata": {
        "id": "ddazomGERHdQ"
      },
      "source": [
        "Train network\n",
        "<br>\n",
        "Run this code 3 time with diffrent tfs"
      ]
    },
    {
      "cell_type": "code",
      "execution_count": null,
      "metadata": {
        "colab": {
          "base_uri": "https://localhost:8080/"
        },
        "id": "jmQKlCxMRHdQ",
        "outputId": "acd69db7-5598-49f1-a575-e9aad6942ecf"
      },
      "outputs": [
        {
          "name": "stdout",
          "output_type": "stream",
          "text": [
            "epoch:   0 , R-loss: 2.217 , V-loss: 2.181\n",
            "epoch:   1 , R-loss: 2.157 , V-loss: 2.133\n",
            "epoch:   2 , R-loss: 2.124 , V-loss: 2.118\n",
            "epoch:   3 , R-loss: 2.110 , V-loss: 2.099\n",
            "epoch:   4 , R-loss: 2.096 , V-loss: 2.100\n",
            "epoch:   5 , R-loss: 2.087 , V-loss: 2.089\n",
            "epoch:   6 , R-loss: 2.083 , V-loss: 2.080\n",
            "epoch:   7 , R-loss: 2.077 , V-loss: 2.076\n",
            "epoch:   8 , R-loss: 2.070 , V-loss: 2.074\n",
            "epoch:   9 , R-loss: 2.062 , V-loss: 2.069\n",
            "epoch:  10 , R-loss: 2.054 , V-loss: 2.052\n",
            "epoch:  11 , R-loss: 2.050 , V-loss: 2.053\n",
            "epoch:  12 , R-loss: 2.042 , V-loss: 2.050\n",
            "epoch:  13 , R-loss: 2.035 , V-loss: 2.037\n",
            "epoch:  14 , R-loss: 2.032 , V-loss: 2.039\n",
            "epoch:  15 , R-loss: 2.029 , V-loss: 2.041\n",
            "epoch:  16 , R-loss: 2.021 , V-loss: 2.034\n",
            "epoch:  17 , R-loss: 2.018 , V-loss: 2.024\n",
            "epoch:  18 , R-loss: 2.012 , V-loss: 2.036\n",
            "epoch:  19 , R-loss: 2.012 , V-loss: 2.023\n",
            "epoch:  20 , R-loss: 2.007 , V-loss: 2.022\n",
            "epoch:  21 , R-loss: 2.005 , V-loss: 2.017\n",
            "epoch:  22 , R-loss: 1.997 , V-loss: 2.017\n",
            "epoch:  23 , R-loss: 1.996 , V-loss: 2.013\n",
            "epoch:  24 , R-loss: 1.998 , V-loss: 2.014\n",
            "epoch:  25 , R-loss: 1.991 , V-loss: 2.019\n",
            "epoch:  26 , R-loss: 1.992 , V-loss: 2.010\n",
            "epoch:  27 , R-loss: 1.984 , V-loss: 2.003\n",
            "epoch:  28 , R-loss: 1.985 , V-loss: 2.008\n",
            "epoch:  29 , R-loss: 1.984 , V-loss: 2.002\n",
            "epoch:  30 , R-loss: 1.978 , V-loss: 2.002\n",
            "epoch:  31 , R-loss: 1.974 , V-loss: 1.999\n",
            "epoch:  32 , R-loss: 1.976 , V-loss: 2.003\n",
            "epoch:  33 , R-loss: 1.974 , V-loss: 1.999\n",
            "epoch:  34 , R-loss: 1.972 , V-loss: 2.021\n",
            "epoch:  35 , R-loss: 1.971 , V-loss: 1.998\n",
            "epoch:  36 , R-loss: 1.967 , V-loss: 1.998\n",
            "epoch:  37 , R-loss: 1.966 , V-loss: 1.991\n",
            "epoch:  38 , R-loss: 1.964 , V-loss: 1.990\n",
            "epoch:  39 , R-loss: 1.961 , V-loss: 1.994\n",
            "epoch:  40 , R-loss: 1.961 , V-loss: 1.994\n",
            "epoch:  41 , R-loss: 1.959 , V-loss: 1.990\n",
            "epoch:  42 , R-loss: 1.955 , V-loss: 1.987\n",
            "epoch:  43 , R-loss: 1.956 , V-loss: 1.983\n",
            "epoch:  44 , R-loss: 1.955 , V-loss: 1.986\n",
            "epoch:  45 , R-loss: 1.953 , V-loss: 1.992\n",
            "epoch:  46 , R-loss: 1.952 , V-loss: 1.984\n",
            "epoch:  47 , R-loss: 1.949 , V-loss: 1.986\n",
            "epoch:  48 , R-loss: 1.947 , V-loss: 1.986\n",
            "epoch:  49 , R-loss: 1.946 , V-loss: 1.981\n",
            "epoch:  50 , R-loss: 1.947 , V-loss: 1.984\n",
            "epoch:  51 , R-loss: 1.944 , V-loss: 1.981\n",
            "epoch:  52 , R-loss: 1.941 , V-loss: 1.981\n",
            "epoch:  53 , R-loss: 1.939 , V-loss: 1.980\n",
            "epoch:  54 , R-loss: 1.939 , V-loss: 1.978\n",
            "epoch:  55 , R-loss: 1.938 , V-loss: 1.977\n",
            "epoch:  56 , R-loss: 1.936 , V-loss: 1.978\n",
            "epoch:  57 , R-loss: 1.937 , V-loss: 1.980\n",
            "epoch:  58 , R-loss: 1.932 , V-loss: 1.981\n",
            "epoch:  59 , R-loss: 1.931 , V-loss: 1.977\n",
            "epoch:  60 , R-loss: 1.932 , V-loss: 1.980\n",
            "epoch:  61 , R-loss: 1.930 , V-loss: 1.971\n",
            "epoch:  62 , R-loss: 1.930 , V-loss: 1.985\n",
            "epoch:  63 , R-loss: 1.928 , V-loss: 1.972\n",
            "epoch:  64 , R-loss: 1.930 , V-loss: 1.970\n",
            "epoch:  65 , R-loss: 1.926 , V-loss: 1.976\n",
            "epoch:  66 , R-loss: 1.926 , V-loss: 1.969\n",
            "epoch:  67 , R-loss: 1.922 , V-loss: 1.974\n",
            "epoch:  68 , R-loss: 1.924 , V-loss: 1.969\n",
            "epoch:  69 , R-loss: 1.922 , V-loss: 1.975\n",
            "epoch:  70 , R-loss: 1.922 , V-loss: 1.976\n",
            "epoch:  71 , R-loss: 1.918 , V-loss: 1.971\n",
            "epoch:  72 , R-loss: 1.921 , V-loss: 1.977\n",
            "epoch:  73 , R-loss: 1.917 , V-loss: 1.974\n",
            "epoch:  74 , R-loss: 1.915 , V-loss: 1.975\n",
            "epoch:  75 , R-loss: 1.913 , V-loss: 1.971\n",
            "epoch:  76 , R-loss: 1.915 , V-loss: 1.974\n",
            "epoch:  77 , R-loss: 1.914 , V-loss: 1.967\n",
            "epoch:  78 , R-loss: 1.910 , V-loss: 1.970\n",
            "epoch:  79 , R-loss: 1.914 , V-loss: 1.960\n",
            "epoch:  80 , R-loss: 1.910 , V-loss: 1.967\n",
            "epoch:  81 , R-loss: 1.910 , V-loss: 1.965\n",
            "epoch:  82 , R-loss: 1.908 , V-loss: 1.972\n",
            "epoch:  83 , R-loss: 1.911 , V-loss: 1.970\n",
            "epoch:  84 , R-loss: 1.905 , V-loss: 1.967\n",
            "epoch:  85 , R-loss: 1.906 , V-loss: 1.964\n",
            "epoch:  86 , R-loss: 1.907 , V-loss: 1.968\n",
            "epoch:  87 , R-loss: 1.904 , V-loss: 1.970\n",
            "epoch:  88 , R-loss: 1.904 , V-loss: 1.966\n",
            "epoch:  89 , R-loss: 1.903 , V-loss: 1.969\n",
            "epoch:  90 , R-loss: 1.901 , V-loss: 1.967\n",
            "epoch:  91 , R-loss: 1.902 , V-loss: 1.966\n",
            "epoch:  92 , R-loss: 1.898 , V-loss: 1.967\n",
            "epoch:  93 , R-loss: 1.900 , V-loss: 1.969\n",
            "epoch:  94 , R-loss: 1.897 , V-loss: 1.961\n",
            "epoch:  95 , R-loss: 1.896 , V-loss: 1.961\n",
            "epoch:  96 , R-loss: 1.895 , V-loss: 1.967\n",
            "epoch:  97 , R-loss: 1.893 , V-loss: 1.960\n",
            "epoch:  98 , R-loss: 1.896 , V-loss: 1.968\n",
            "epoch:  99 , R-loss: 1.892 , V-loss: 1.957\n",
            "epoch: 100 , R-loss: 1.893 , V-loss: 1.962\n",
            "epoch: 101 , R-loss: 1.893 , V-loss: 1.967\n",
            "epoch: 102 , R-loss: 1.890 , V-loss: 1.968\n",
            "epoch: 103 , R-loss: 1.890 , V-loss: 1.963\n",
            "epoch: 104 , R-loss: 1.893 , V-loss: 1.968\n",
            "epoch: 105 , R-loss: 1.891 , V-loss: 1.958\n",
            "epoch: 106 , R-loss: 1.888 , V-loss: 1.957\n",
            "epoch: 107 , R-loss: 1.883 , V-loss: 1.960\n",
            "epoch: 108 , R-loss: 1.886 , V-loss: 1.963\n",
            "epoch: 109 , R-loss: 1.888 , V-loss: 1.965\n",
            "epoch: 110 , R-loss: 1.887 , V-loss: 1.956\n",
            "epoch: 111 , R-loss: 1.885 , V-loss: 1.960\n",
            "epoch: 112 , R-loss: 1.885 , V-loss: 1.957\n",
            "epoch: 113 , R-loss: 1.884 , V-loss: 1.956\n",
            "epoch: 114 , R-loss: 1.882 , V-loss: 1.955\n",
            "epoch: 115 , R-loss: 1.881 , V-loss: 1.957\n",
            "epoch: 116 , R-loss: 1.881 , V-loss: 1.964\n",
            "epoch: 117 , R-loss: 1.881 , V-loss: 1.958\n",
            "epoch: 118 , R-loss: 1.878 , V-loss: 1.960\n",
            "epoch: 119 , R-loss: 1.878 , V-loss: 1.960\n",
            "epoch: 120 , R-loss: 1.878 , V-loss: 1.959\n",
            "epoch: 121 , R-loss: 1.882 , V-loss: 1.966\n",
            "epoch: 122 , R-loss: 1.874 , V-loss: 1.964\n",
            "epoch: 123 , R-loss: 1.880 , V-loss: 1.956\n",
            "epoch: 124 , R-loss: 1.877 , V-loss: 1.964\n",
            "epoch: 125 , R-loss: 1.878 , V-loss: 1.959\n",
            "epoch: 126 , R-loss: 1.873 , V-loss: 1.964\n",
            "epoch: 127 , R-loss: 1.875 , V-loss: 1.960\n",
            "epoch: 128 , R-loss: 1.877 , V-loss: 1.958\n",
            "epoch: 129 , R-loss: 1.874 , V-loss: 1.950\n",
            "epoch: 130 , R-loss: 1.874 , V-loss: 1.957\n",
            "epoch: 131 , R-loss: 1.873 , V-loss: 1.954\n",
            "epoch: 132 , R-loss: 1.875 , V-loss: 1.953\n",
            "epoch: 133 , R-loss: 1.873 , V-loss: 1.960\n",
            "epoch: 134 , R-loss: 1.870 , V-loss: 1.962\n",
            "epoch: 135 , R-loss: 1.870 , V-loss: 1.954\n",
            "epoch: 136 , R-loss: 1.867 , V-loss: 1.953\n",
            "epoch: 137 , R-loss: 1.865 , V-loss: 1.957\n",
            "epoch: 138 , R-loss: 1.866 , V-loss: 1.957\n",
            "epoch: 139 , R-loss: 1.871 , V-loss: 1.950\n",
            "epoch: 140 , R-loss: 1.868 , V-loss: 1.950\n",
            "epoch: 141 , R-loss: 1.866 , V-loss: 1.955\n",
            "epoch: 142 , R-loss: 1.865 , V-loss: 1.953\n",
            "epoch: 143 , R-loss: 1.868 , V-loss: 1.958\n",
            "epoch: 144 , R-loss: 1.867 , V-loss: 1.955\n",
            "epoch: 145 , R-loss: 1.866 , V-loss: 1.955\n",
            "epoch: 146 , R-loss: 1.864 , V-loss: 1.955\n",
            "epoch: 147 , R-loss: 1.864 , V-loss: 1.953\n",
            "epoch: 148 , R-loss: 1.861 , V-loss: 1.951\n",
            "epoch: 149 , R-loss: 1.864 , V-loss: 1.956\n",
            "epoch: 150 , R-loss: 1.862 , V-loss: 1.953\n",
            "epoch: 151 , R-loss: 1.863 , V-loss: 1.949\n",
            "epoch: 152 , R-loss: 1.860 , V-loss: 1.954\n",
            "epoch: 153 , R-loss: 1.863 , V-loss: 1.952\n",
            "epoch: 154 , R-loss: 1.862 , V-loss: 1.953\n",
            "epoch: 155 , R-loss: 1.858 , V-loss: 1.953\n",
            "epoch: 156 , R-loss: 1.859 , V-loss: 1.955\n",
            "epoch: 157 , R-loss: 1.858 , V-loss: 1.953\n",
            "epoch: 158 , R-loss: 1.860 , V-loss: 1.956\n",
            "epoch: 159 , R-loss: 1.859 , V-loss: 1.950\n",
            "epoch: 160 , R-loss: 1.858 , V-loss: 1.954\n",
            "epoch: 161 , R-loss: 1.854 , V-loss: 1.949\n",
            "epoch: 162 , R-loss: 1.857 , V-loss: 1.950\n",
            "epoch: 163 , R-loss: 1.861 , V-loss: 1.961\n",
            "epoch: 164 , R-loss: 1.857 , V-loss: 1.955\n",
            "epoch: 165 , R-loss: 1.857 , V-loss: 1.955\n",
            "epoch: 166 , R-loss: 1.854 , V-loss: 1.953\n",
            "epoch: 167 , R-loss: 1.856 , V-loss: 1.954\n",
            "epoch: 168 , R-loss: 1.854 , V-loss: 1.954\n",
            "epoch: 169 , R-loss: 1.853 , V-loss: 1.953\n",
            "epoch: 170 , R-loss: 1.855 , V-loss: 1.949\n",
            "epoch: 171 , R-loss: 1.853 , V-loss: 1.948\n",
            "epoch: 172 , R-loss: 1.851 , V-loss: 1.954\n",
            "epoch: 173 , R-loss: 1.851 , V-loss: 1.950\n",
            "epoch: 174 , R-loss: 1.854 , V-loss: 1.951\n",
            "epoch: 175 , R-loss: 1.855 , V-loss: 1.948\n",
            "epoch: 176 , R-loss: 1.851 , V-loss: 1.956\n",
            "epoch: 177 , R-loss: 1.848 , V-loss: 1.962\n",
            "epoch: 178 , R-loss: 1.852 , V-loss: 1.953\n",
            "epoch: 179 , R-loss: 1.852 , V-loss: 1.946\n",
            "epoch: 180 , R-loss: 1.850 , V-loss: 1.945\n",
            "epoch: 181 , R-loss: 1.849 , V-loss: 1.952\n",
            "epoch: 182 , R-loss: 1.848 , V-loss: 1.952\n",
            "epoch: 183 , R-loss: 1.849 , V-loss: 1.949\n",
            "epoch: 184 , R-loss: 1.846 , V-loss: 1.949\n",
            "epoch: 185 , R-loss: 1.849 , V-loss: 1.951\n",
            "epoch: 186 , R-loss: 1.847 , V-loss: 1.947\n",
            "epoch: 187 , R-loss: 1.848 , V-loss: 1.951\n",
            "epoch: 188 , R-loss: 1.846 , V-loss: 1.952\n",
            "epoch: 189 , R-loss: 1.845 , V-loss: 1.943\n",
            "epoch: 190 , R-loss: 1.845 , V-loss: 1.949\n",
            "epoch: 191 , R-loss: 1.845 , V-loss: 1.952\n",
            "epoch: 192 , R-loss: 1.843 , V-loss: 1.953\n",
            "epoch: 193 , R-loss: 1.843 , V-loss: 1.946\n",
            "epoch: 194 , R-loss: 1.844 , V-loss: 1.952\n",
            "epoch: 195 , R-loss: 1.844 , V-loss: 1.949\n",
            "epoch: 196 , R-loss: 1.843 , V-loss: 1.953\n",
            "epoch: 197 , R-loss: 1.843 , V-loss: 1.953\n",
            "epoch: 198 , R-loss: 1.846 , V-loss: 1.945\n",
            "epoch: 199 , R-loss: 1.843 , V-loss: 1.951\n"
          ]
        }
      ],
      "source": [
        "loss_arr = np.array([])\n",
        "val_loss_arr = np.array([])\n",
        "for epoch in range(200):\n",
        "    running_loss = 0.0\n",
        "    for i, data in enumerate(trainloader):\n",
        "        img , label = data\n",
        "        img = tf32(tf08(img))\n",
        "\n",
        "        optimizer.zero_grad()\n",
        "        output = net(img.to(device))\n",
        "        loss = criterion(output , label.to(device))\n",
        "        loss.backward()\n",
        "        optimizer.step()\n",
        "        \n",
        "        running_loss = loss.item() + running_loss\n",
        "    with torch.no_grad():\n",
        "      v_output = net(tf32(tf08(v_d)).to(device))\n",
        "      val_loss = criterion(v_output , v_t.to(device))\n",
        "      val_loss = val_loss.item()\n",
        "    val_loss_arr = np.append(val_loss_arr , val_loss)\n",
        "    loss_arr = np.append(loss_arr , running_loss)\n",
        "    print(f'epoch: {epoch :3d} , R-loss: {running_loss/1250 :.3f} , V-loss: {val_loss :.3f}')\n",
        "    running_loss = 0.0"
      ]
    },
    {
      "cell_type": "markdown",
      "metadata": {
        "id": "wxPcMxHyo9qS"
      },
      "source": [
        "Plot loss - train data original"
      ]
    },
    {
      "cell_type": "code",
      "execution_count": null,
      "metadata": {
        "colab": {
          "base_uri": "https://localhost:8080/",
          "height": 265
        },
        "id": "gSw0fnieUE7c",
        "outputId": "d93c7fbb-8297-4483-b870-31890a929818"
      },
      "outputs": [
        {
          "data": {
            "image/png": "[encoded data removed]",
            "text/plain": [
              "<Figure size 432x288 with 1 Axes>"
            ]
          },
          "metadata": {},
          "output_type": "display_data"
        }
      ],
      "source": [
        "plt.plot(loss_arr/1250 , label = 'Loss - tf32')\n",
        "plt.plot(val_loss_arr , label = 'Validation Loss - tf32')\n",
        "plt.grid()\n",
        "plt.legend()\n",
        "plt.show()"
      ]
    },
    {
      "cell_type": "markdown",
      "metadata": {
        "id": "fy1igILMpFwd"
      },
      "source": [
        "Plot loss - train data 16×16"
      ]
    },
    {
      "cell_type": "code",
      "execution_count": null,
      "metadata": {
        "colab": {
          "base_uri": "https://localhost:8080/",
          "height": 265
        },
        "id": "OnhqCZAK_d2Q",
        "outputId": "a63eb4dc-35c8-4276-c2df-7d9425fd8ff6"
      },
      "outputs": [
        {
          "data": {
            "image/png": "[encoded data removed]",
            "text/plain": [
              "<Figure size 432x288 with 1 Axes>"
            ]
          },
          "metadata": {},
          "output_type": "display_data"
        }
      ],
      "source": [
        "plt.plot(loss_arr/1250 , label = 'Loss - tf16')\n",
        "plt.plot(val_loss_arr , label = 'Validation Loss - tf16')\n",
        "plt.grid()\n",
        "plt.legend()\n",
        "plt.show()"
      ]
    },
    {
      "cell_type": "markdown",
      "metadata": {
        "id": "MXMEF12MpJ2M"
      },
      "source": [
        "Plot loss - train data 8×8"
      ]
    },
    {
      "cell_type": "code",
      "execution_count": null,
      "metadata": {
        "colab": {
          "base_uri": "https://localhost:8080/",
          "height": 265
        },
        "id": "HYEs0gU_AZvn",
        "outputId": "056f8316-2805-4336-b072-008707350df8"
      },
      "outputs": [
        {
          "data": {
            "image/png": "[encoded data removed]",
            "text/plain": [
              "<Figure size 432x288 with 1 Axes>"
            ]
          },
          "metadata": {},
          "output_type": "display_data"
        }
      ],
      "source": [
        "plt.plot(loss_arr/1250 , label = 'Loss - tf08')\n",
        "plt.plot(val_loss_arr , label = 'Validation Loss - tf08')\n",
        "plt.grid()\n",
        "plt.legend()\n",
        "plt.show()"
      ]
    },
    {
      "cell_type": "markdown",
      "metadata": {
        "id": "6OffmSQRa_yL"
      },
      "source": [
        "Save Model"
      ]
    },
    {
      "cell_type": "code",
      "execution_count": null,
      "metadata": {
        "id": "cGSPdt4ca9Ww"
      },
      "outputs": [],
      "source": [
        "path = './cifar_net08.pth'\n",
        "torch.save(net.state_dict() , path)"
      ]
    },
    {
      "cell_type": "markdown",
      "metadata": {
        "id": "pUZkck_abCHl"
      },
      "source": [
        "Load Models"
      ]
    },
    {
      "cell_type": "code",
      "execution_count": null,
      "metadata": {
        "colab": {
          "base_uri": "https://localhost:8080/"
        },
        "id": "vMCUnMY9bEK2",
        "outputId": "7997a424-a250-42b3-d15c-2403d252fbbd"
      },
      "outputs": [
        {
          "data": {
            "text/plain": [
              "<All keys matched successfully>"
            ]
          },
          "execution_count": 30,
          "metadata": {},
          "output_type": "execute_result"
        }
      ],
      "source": [
        "path32 = './cifar_net32.pth'\n",
        "path16 = './cifar_net16.pth'\n",
        "path08 = './cifar_net08.pth'\n",
        "\n",
        "\n",
        "net32 = MyNet().to(device)\n",
        "net32.load_state_dict(torch.load(path32 , map_location=device))\n",
        "\n",
        "net16 = MyNet().to(device)\n",
        "net16.load_state_dict(torch.load(path16 , map_location=device))\n",
        "\n",
        "net08 = MyNet().to(device)\n",
        "net08.load_state_dict(torch.load(path08 , map_location=device))"
      ]
    },
    {
      "cell_type": "markdown",
      "metadata": {
        "id": "9J0L2Mej2iwW"
      },
      "source": [
        "Ignore dropout layers for test"
      ]
    },
    {
      "cell_type": "code",
      "execution_count": null,
      "metadata": {
        "id": "7FpgSkam84gy"
      },
      "outputs": [],
      "source": [
        "net32.eval();\n",
        "net16.eval();\n",
        "net08.eval();"
      ]
    },
    {
      "cell_type": "markdown",
      "metadata": {
        "id": "a42ZibDPINO0"
      },
      "source": [
        "Load test data"
      ]
    },
    {
      "cell_type": "code",
      "execution_count": null,
      "metadata": {
        "id": "6Jj_RNLVIJl_"
      },
      "outputs": [],
      "source": [
        "testloader = DataLoader(dataset_test , len(dataset_test) , shuffle=False)\n",
        "img_t , label_t = next(iter(testloader))"
      ]
    },
    {
      "cell_type": "markdown",
      "metadata": {
        "id": "0X6Z8eYFJm2H"
      },
      "source": [
        "Test datas: 32 , 16 , 08"
      ]
    },
    {
      "cell_type": "code",
      "execution_count": null,
      "metadata": {
        "id": "ZleQwFM6JatT"
      },
      "outputs": [],
      "source": [
        "label_t = label_t.to(device)\n",
        "img_t32 = img_t.to(device)\n",
        "img_t16 = tf32(tf16(img_t)).to(device)\n",
        "img_t08 = tf32(tf08(img_t)).to(device)"
      ]
    },
    {
      "cell_type": "markdown",
      "metadata": {
        "id": "9LI2qogI23pQ"
      },
      "source": [
        "##### C : Trained on original resolution dataset (32x32) and tested on varying resolution dataset (32x32, 16x16, 8x8)"
      ]
    },
    {
      "cell_type": "code",
      "execution_count": null,
      "metadata": {
        "id": "dch8uNDAKLEP"
      },
      "outputs": [],
      "source": [
        "with torch.no_grad():\n",
        "  tp_32 = torch.argmax(net32(img_t32) , 1)\n",
        "  tp_16 = torch.argmax(net32(img_t16) , 1)\n",
        "  tp_08 = torch.argmax(net32(img_t08) , 1)"
      ]
    },
    {
      "cell_type": "markdown",
      "metadata": {
        "id": "7QMCN8fz5mu4"
      },
      "source": [
        "Metrics"
      ]
    },
    {
      "cell_type": "code",
      "execution_count": null,
      "metadata": {
        "id": "jQseco30L0k_"
      },
      "outputs": [],
      "source": [
        "accuracy_score = Accuracy()\n",
        "precision_score = Precision(average='macro', num_classes=10)\n",
        "f1_score = F1Score(num_classes=10)"
      ]
    },
    {
      "cell_type": "code",
      "execution_count": null,
      "metadata": {
        "id": "x7cGSf4P-71y"
      },
      "outputs": [],
      "source": [
        "accuracy32 = accuracy_score(tp_32.cpu() , label_t)\n",
        "accuracy16 = accuracy_score(tp_16.cpu() , label_t)\n",
        "accuracy08 = accuracy_score(tp_08.cpu() , label_t)"
      ]
    },
    {
      "cell_type": "code",
      "execution_count": null,
      "metadata": {
        "id": "E01ojlOB5Uez"
      },
      "outputs": [],
      "source": [
        "precision32 = precision_score(tp_32.cpu() , label_t)\n",
        "precision16 = precision_score(tp_16.cpu() , label_t)\n",
        "precision08 = precision_score(tp_08.cpu() , label_t)"
      ]
    },
    {
      "cell_type": "code",
      "execution_count": null,
      "metadata": {
        "id": "Nv3QPngf550w"
      },
      "outputs": [],
      "source": [
        "f1_32 = f1_score(tp_32.cpu() , label_t)\n",
        "f1_16 = f1_score(tp_16.cpu() , label_t)\n",
        "f1_08 = f1_score(tp_08.cpu() , label_t)"
      ]
    },
    {
      "cell_type": "code",
      "execution_count": null,
      "metadata": {
        "id": "BAjkoizn6Hvm"
      },
      "outputs": [],
      "source": [
        "metrics32 = torch.stack([accuracy32 , precision32 , f1_32])\n",
        "metrics16 = torch.stack([accuracy16 , precision16 , f1_16])\n",
        "metrics08 = torch.stack([accuracy08 , precision08 , f1_08])"
      ]
    },
    {
      "cell_type": "code",
      "execution_count": null,
      "metadata": {
        "id": "Aj9J4WI66Thn"
      },
      "outputs": [],
      "source": [
        "metrics = torch.stack([metrics32 , metrics16 , metrics08])"
      ]
    },
    {
      "cell_type": "code",
      "execution_count": null,
      "metadata": {
        "colab": {
          "base_uri": "https://localhost:8080/"
        },
        "id": "23w0TQpt7LEv",
        "outputId": "3c158849-ad95-4d6b-f822-62a0865fbf98"
      },
      "outputs": [
        {
          "name": "stdout",
          "output_type": "stream",
          "text": [
            "tensor([[0.7148, 0.7109, 0.7148],\n",
            "        [0.4517, 0.5984, 0.4517],\n",
            "        [0.2881, 0.5115, 0.2881]])\n"
          ]
        }
      ],
      "source": [
        "print(metrics)"
      ]
    },
    {
      "cell_type": "markdown",
      "metadata": {
        "id": "8wHWm2ib7sgm"
      },
      "source": [
        "##### D : Trained and tested on each varying resolution dataset separately (32x32, 16x16, 8x8)"
      ]
    },
    {
      "cell_type": "code",
      "execution_count": null,
      "metadata": {
        "id": "raoV69BJ7sgr"
      },
      "outputs": [],
      "source": [
        "with torch.no_grad():\n",
        "  tp_32 = torch.argmax(net32(img_t32) , 1)\n",
        "  tp_16 = torch.argmax(net16(img_t16) , 1)\n",
        "  tp_08 = torch.argmax(net08(img_t08) , 1)"
      ]
    },
    {
      "cell_type": "markdown",
      "metadata": {
        "id": "2R3XjNZE7sgv"
      },
      "source": [
        "Metrics"
      ]
    },
    {
      "cell_type": "code",
      "execution_count": null,
      "metadata": {
        "id": "rMYDYQ757sg0"
      },
      "outputs": [],
      "source": [
        "accuracy32 = accuracy_score(tp_32.cpu() , label_t)\n",
        "accuracy16 = accuracy_score(tp_16.cpu() , label_t)\n",
        "accuracy08 = accuracy_score(tp_08.cpu() , label_t)"
      ]
    },
    {
      "cell_type": "code",
      "execution_count": null,
      "metadata": {
        "id": "sDhj7AND7sg2"
      },
      "outputs": [],
      "source": [
        "precision32 = precision_score(tp_32.cpu() , label_t)\n",
        "precision16 = precision_score(tp_16.cpu() , label_t)\n",
        "precision08 = precision_score(tp_08.cpu() , label_t)"
      ]
    },
    {
      "cell_type": "code",
      "execution_count": null,
      "metadata": {
        "id": "RiIJYLFf7sg3"
      },
      "outputs": [],
      "source": [
        "f1_32 = f1_score(tp_32.cpu() , label_t)\n",
        "f1_16 = f1_score(tp_16.cpu() , label_t)\n",
        "f1_08 = f1_score(tp_08.cpu() , label_t)\n"
      ]
    },
    {
      "cell_type": "code",
      "execution_count": null,
      "metadata": {
        "id": "62tvSlEO7sg4"
      },
      "outputs": [],
      "source": [
        "metrics32 = torch.stack([accuracy32 , precision32 , f1_32])\n",
        "metrics16 = torch.stack([accuracy16 , precision16 , f1_16])\n",
        "metrics08 = torch.stack([accuracy08 , precision08 , f1_08])"
      ]
    },
    {
      "cell_type": "code",
      "execution_count": null,
      "metadata": {
        "id": "U1zw0GNa7sg5"
      },
      "outputs": [],
      "source": [
        "metrics = torch.stack([metrics32 , metrics16 , metrics08])"
      ]
    },
    {
      "cell_type": "code",
      "execution_count": null,
      "metadata": {
        "colab": {
          "base_uri": "https://localhost:8080/"
        },
        "id": "Q7MCr3IY7sg8",
        "outputId": "7e887cf3-0b88-436b-cd08-9cfef313d73e"
      },
      "outputs": [
        {
          "name": "stdout",
          "output_type": "stream",
          "text": [
            "tensor([[0.7148, 0.7109, 0.7148],\n",
            "        [0.6311, 0.6297, 0.6311],\n",
            "        [0.5526, 0.5517, 0.5526]])\n"
          ]
        }
      ],
      "source": [
        "print(metrics)"
      ]
    }
  ],
  "metadata": {
    "accelerator": "GPU",
    "colab": {
      "collapsed_sections": [
        "-EgfpJgbiiJu",
        "Eyyg4DdtiiJx",
        "3RTdxssyiiKC",
        "ZlOCovOI80dI",
        "9wG4Y67K_eFC",
        "_iGjL5IaFb49",
        "Jd-V6knnFkLj",
        "BVxoCy05I4sM",
        "d9-lmZwbML8x"
      ],
      "provenance": []
    },
    "gpuClass": "standard",
    "kernelspec": {
      "display_name": "Python 3 (ipykernel)",
      "language": "python",
      "name": "python3"
    },
    "language_info": {
      "codemirror_mode": {
        "name": "ipython",
        "version": 3
      },
      "file_extension": ".py",
      "mimetype": "text/x-python",
      "name": "python",
      "nbconvert_exporter": "python",
      "pygments_lexer": "ipython3",
      "version": "3.10.8 (tags/v3.10.8:aaaf517, Oct 11 2022, 16:50:30) [MSC v.1933 64 bit (AMD64)]"
    },
    "vscode": {
      "interpreter": {
        "hash": "809d01ba06e2e446a8543f322d3ab59c8b19101d26aad2a35e78331c2f4dfd29"
      }
    },
    "widgets": {
      "application/vnd.jupyter.widget-state+json": {
        "06f9673245504249876cb2b20d2c747f": {
          "model_module": "@jupyter-widgets/base",
          "model_module_version": "1.2.0",
          "model_name": "LayoutModel",
          "state": {
            "_model_module": "@jupyter-widgets/base",
            "_model_module_version": "1.2.0",
            "_model_name": "LayoutModel",
            "_view_count": null,
            "_view_module": "@jupyter-widgets/base",
            "_view_module_version": "1.2.0",
            "_view_name": "LayoutView",
            "align_content": null,
            "align_items": null,
            "align_self": null,
            "border": null,
            "bottom": null,
            "display": null,
            "flex": null,
            "flex_flow": null,
            "grid_area": null,
            "grid_auto_columns": null,
            "grid_auto_flow": null,
            "grid_auto_rows": null,
            "grid_column": null,
            "grid_gap": null,
            "grid_row": null,
            "grid_template_areas": null,
            "grid_template_columns": null,
            "grid_template_rows": null,
            "height": null,
            "justify_content": null,
            "justify_items": null,
            "left": null,
            "margin": null,
            "max_height": null,
            "max_width": null,
            "min_height": null,
            "min_width": null,
            "object_fit": null,
            "object_position": null,
            "order": null,
            "overflow": null,
            "overflow_x": null,
            "overflow_y": null,
            "padding": null,
            "right": null,
            "top": null,
            "visibility": null,
            "width": null
          }
        },
        "0f92d9c4625d4777b1847832dfbde34b": {
          "model_module": "@jupyter-widgets/controls",
          "model_module_version": "1.5.0",
          "model_name": "DescriptionStyleModel",
          "state": {
            "_model_module": "@jupyter-widgets/controls",
            "_model_module_version": "1.5.0",
            "_model_name": "DescriptionStyleModel",
            "_view_count": null,
            "_view_module": "@jupyter-widgets/base",
            "_view_module_version": "1.2.0",
            "_view_name": "StyleView",
            "description_width": ""
          }
        },
        "10fdb1505ec0487398a1e25c878619b8": {
          "model_module": "@jupyter-widgets/base",
          "model_module_version": "1.2.0",
          "model_name": "LayoutModel",
          "state": {
            "_model_module": "@jupyter-widgets/base",
            "_model_module_version": "1.2.0",
            "_model_name": "LayoutModel",
            "_view_count": null,
            "_view_module": "@jupyter-widgets/base",
            "_view_module_version": "1.2.0",
            "_view_name": "LayoutView",
            "align_content": null,
            "align_items": null,
            "align_self": null,
            "border": null,
            "bottom": null,
            "display": null,
            "flex": null,
            "flex_flow": null,
            "grid_area": null,
            "grid_auto_columns": null,
            "grid_auto_flow": null,
            "grid_auto_rows": null,
            "grid_column": null,
            "grid_gap": null,
            "grid_row": null,
            "grid_template_areas": null,
            "grid_template_columns": null,
            "grid_template_rows": null,
            "height": null,
            "justify_content": null,
            "justify_items": null,
            "left": null,
            "margin": null,
            "max_height": null,
            "max_width": null,
            "min_height": null,
            "min_width": null,
            "object_fit": null,
            "object_position": null,
            "order": null,
            "overflow": null,
            "overflow_x": null,
            "overflow_y": null,
            "padding": null,
            "right": null,
            "top": null,
            "visibility": null,
            "width": null
          }
        },
        "1cfbbc0500204bb4b13b8ad1b1660559": {
          "model_module": "@jupyter-widgets/controls",
          "model_module_version": "1.5.0",
          "model_name": "DescriptionStyleModel",
          "state": {
            "_model_module": "@jupyter-widgets/controls",
            "_model_module_version": "1.5.0",
            "_model_name": "DescriptionStyleModel",
            "_view_count": null,
            "_view_module": "@jupyter-widgets/base",
            "_view_module_version": "1.2.0",
            "_view_name": "StyleView",
            "description_width": ""
          }
        },
        "2185f33656444b0a842a3048c15e4eec": {
          "model_module": "@jupyter-widgets/controls",
          "model_module_version": "1.5.0",
          "model_name": "ProgressStyleModel",
          "state": {
            "_model_module": "@jupyter-widgets/controls",
            "_model_module_version": "1.5.0",
            "_model_name": "ProgressStyleModel",
            "_view_count": null,
            "_view_module": "@jupyter-widgets/base",
            "_view_module_version": "1.2.0",
            "_view_name": "StyleView",
            "bar_color": null,
            "description_width": ""
          }
        },
        "2321a32e555245aab1a5873701382338": {
          "model_module": "@jupyter-widgets/controls",
          "model_module_version": "1.5.0",
          "model_name": "DescriptionStyleModel",
          "state": {
            "_model_module": "@jupyter-widgets/controls",
            "_model_module_version": "1.5.0",
            "_model_name": "DescriptionStyleModel",
            "_view_count": null,
            "_view_module": "@jupyter-widgets/base",
            "_view_module_version": "1.2.0",
            "_view_name": "StyleView",
            "description_width": ""
          }
        },
        "3320644587ef4aa3a1e7be76fcacba31": {
          "model_module": "@jupyter-widgets/controls",
          "model_module_version": "1.5.0",
          "model_name": "HBoxModel",
          "state": {
            "_dom_classes": [],
            "_model_module": "@jupyter-widgets/controls",
            "_model_module_version": "1.5.0",
            "_model_name": "HBoxModel",
            "_view_count": null,
            "_view_module": "@jupyter-widgets/controls",
            "_view_module_version": "1.5.0",
            "_view_name": "HBoxView",
            "box_style": "",
            "children": [
              "IPY_MODEL_52dc2968744448c4af651f1ed556809f",
              "IPY_MODEL_5bd627499b6e48a78346689cce44657e",
              "IPY_MODEL_e6f880170fa04ff281315a66b8914194"
            ],
            "layout": "IPY_MODEL_52910c42075a429e81b8cf2f6a6708ec"
          }
        },
        "3bc213ed44504cdaab6f01f8eb7cdad2": {
          "model_module": "@jupyter-widgets/controls",
          "model_module_version": "1.5.0",
          "model_name": "HTMLModel",
          "state": {
            "_dom_classes": [],
            "_model_module": "@jupyter-widgets/controls",
            "_model_module_version": "1.5.0",
            "_model_name": "HTMLModel",
            "_view_count": null,
            "_view_module": "@jupyter-widgets/controls",
            "_view_module_version": "1.5.0",
            "_view_name": "HTMLView",
            "description": "",
            "description_tooltip": null,
            "layout": "IPY_MODEL_6165c477f3344f118971d33d2a36a9b2",
            "placeholder": "​",
            "style": "IPY_MODEL_0f92d9c4625d4777b1847832dfbde34b",
            "value": " 26421880/26421880 [00:00&lt;00:00, 122152122.34it/s]"
          }
        },
        "49e5d1d27adb4d99b3e300b9e6ff49fc": {
          "model_module": "@jupyter-widgets/controls",
          "model_module_version": "1.5.0",
          "model_name": "HTMLModel",
          "state": {
            "_dom_classes": [],
            "_model_module": "@jupyter-widgets/controls",
            "_model_module_version": "1.5.0",
            "_model_name": "HTMLModel",
            "_view_count": null,
            "_view_module": "@jupyter-widgets/controls",
            "_view_module_version": "1.5.0",
            "_view_name": "HTMLView",
            "description": "",
            "description_tooltip": null,
            "layout": "IPY_MODEL_a83049e656d647c2a75e4c790e7507a5",
            "placeholder": "​",
            "style": "IPY_MODEL_cd7b264633cd49de84d999e2dc64d5be",
            "value": " 29515/29515 [00:00&lt;00:00, 288941.31it/s]"
          }
        },
        "4beb968f0f954d568ff6699b208a5702": {
          "model_module": "@jupyter-widgets/controls",
          "model_module_version": "1.5.0",
          "model_name": "HBoxModel",
          "state": {
            "_dom_classes": [],
            "_model_module": "@jupyter-widgets/controls",
            "_model_module_version": "1.5.0",
            "_model_name": "HBoxModel",
            "_view_count": null,
            "_view_module": "@jupyter-widgets/controls",
            "_view_module_version": "1.5.0",
            "_view_name": "HBoxView",
            "box_style": "",
            "children": [
              "IPY_MODEL_c357ae705c454a92b5e6d6e2eb9ba768",
              "IPY_MODEL_ac7ada271e1a426f99efb24a1a4ae551",
              "IPY_MODEL_49e5d1d27adb4d99b3e300b9e6ff49fc"
            ],
            "layout": "IPY_MODEL_bb0d73549063439782aa7503c7351d43"
          }
        },
        "4cf5fe9c635c4e9688a87717ce3e98b3": {
          "model_module": "@jupyter-widgets/base",
          "model_module_version": "1.2.0",
          "model_name": "LayoutModel",
          "state": {
            "_model_module": "@jupyter-widgets/base",
            "_model_module_version": "1.2.0",
            "_model_name": "LayoutModel",
            "_view_count": null,
            "_view_module": "@jupyter-widgets/base",
            "_view_module_version": "1.2.0",
            "_view_name": "LayoutView",
            "align_content": null,
            "align_items": null,
            "align_self": null,
            "border": null,
            "bottom": null,
            "display": null,
            "flex": null,
            "flex_flow": null,
            "grid_area": null,
            "grid_auto_columns": null,
            "grid_auto_flow": null,
            "grid_auto_rows": null,
            "grid_column": null,
            "grid_gap": null,
            "grid_row": null,
            "grid_template_areas": null,
            "grid_template_columns": null,
            "grid_template_rows": null,
            "height": null,
            "justify_content": null,
            "justify_items": null,
            "left": null,
            "margin": null,
            "max_height": null,
            "max_width": null,
            "min_height": null,
            "min_width": null,
            "object_fit": null,
            "object_position": null,
            "order": null,
            "overflow": null,
            "overflow_x": null,
            "overflow_y": null,
            "padding": null,
            "right": null,
            "top": null,
            "visibility": null,
            "width": null
          }
        },
        "52910c42075a429e81b8cf2f6a6708ec": {
          "model_module": "@jupyter-widgets/base",
          "model_module_version": "1.2.0",
          "model_name": "LayoutModel",
          "state": {
            "_model_module": "@jupyter-widgets/base",
            "_model_module_version": "1.2.0",
            "_model_name": "LayoutModel",
            "_view_count": null,
            "_view_module": "@jupyter-widgets/base",
            "_view_module_version": "1.2.0",
            "_view_name": "LayoutView",
            "align_content": null,
            "align_items": null,
            "align_self": null,
            "border": null,
            "bottom": null,
            "display": null,
            "flex": null,
            "flex_flow": null,
            "grid_area": null,
            "grid_auto_columns": null,
            "grid_auto_flow": null,
            "grid_auto_rows": null,
            "grid_column": null,
            "grid_gap": null,
            "grid_row": null,
            "grid_template_areas": null,
            "grid_template_columns": null,
            "grid_template_rows": null,
            "height": null,
            "justify_content": null,
            "justify_items": null,
            "left": null,
            "margin": null,
            "max_height": null,
            "max_width": null,
            "min_height": null,
            "min_width": null,
            "object_fit": null,
            "object_position": null,
            "order": null,
            "overflow": null,
            "overflow_x": null,
            "overflow_y": null,
            "padding": null,
            "right": null,
            "top": null,
            "visibility": null,
            "width": null
          }
        },
        "52c12efbd24f439782a7417a43740ed1": {
          "model_module": "@jupyter-widgets/controls",
          "model_module_version": "1.5.0",
          "model_name": "HBoxModel",
          "state": {
            "_dom_classes": [],
            "_model_module": "@jupyter-widgets/controls",
            "_model_module_version": "1.5.0",
            "_model_name": "HBoxModel",
            "_view_count": null,
            "_view_module": "@jupyter-widgets/controls",
            "_view_module_version": "1.5.0",
            "_view_name": "HBoxView",
            "box_style": "",
            "children": [
              "IPY_MODEL_812e3c975c81449cb4f0607bf4426cf1",
              "IPY_MODEL_d9aa554053114e58b1a7781837556693",
              "IPY_MODEL_82bf328e5b1248359ba052d86701a0da"
            ],
            "layout": "IPY_MODEL_4cf5fe9c635c4e9688a87717ce3e98b3"
          }
        },
        "52dc2968744448c4af651f1ed556809f": {
          "model_module": "@jupyter-widgets/controls",
          "model_module_version": "1.5.0",
          "model_name": "HTMLModel",
          "state": {
            "_dom_classes": [],
            "_model_module": "@jupyter-widgets/controls",
            "_model_module_version": "1.5.0",
            "_model_name": "HTMLModel",
            "_view_count": null,
            "_view_module": "@jupyter-widgets/controls",
            "_view_module_version": "1.5.0",
            "_view_name": "HTMLView",
            "description": "",
            "description_tooltip": null,
            "layout": "IPY_MODEL_a6c40c690ff240889f3bdf19aad7ca3c",
            "placeholder": "​",
            "style": "IPY_MODEL_ccce07f9d0cc4e4c8f229bf3c503f2de",
            "value": "100%"
          }
        },
        "5bd627499b6e48a78346689cce44657e": {
          "model_module": "@jupyter-widgets/controls",
          "model_module_version": "1.5.0",
          "model_name": "FloatProgressModel",
          "state": {
            "_dom_classes": [],
            "_model_module": "@jupyter-widgets/controls",
            "_model_module_version": "1.5.0",
            "_model_name": "FloatProgressModel",
            "_view_count": null,
            "_view_module": "@jupyter-widgets/controls",
            "_view_module_version": "1.5.0",
            "_view_name": "ProgressView",
            "bar_style": "success",
            "description": "",
            "description_tooltip": null,
            "layout": "IPY_MODEL_ad1ba2bd80da40c680db8fabab90a74f",
            "max": 5148,
            "min": 0,
            "orientation": "horizontal",
            "style": "IPY_MODEL_e1c53decca6a4278a6bb1f065c7a43cd",
            "value": 5148
          }
        },
        "5f79dab3afa44151aafaf60dd7b304bd": {
          "model_module": "@jupyter-widgets/base",
          "model_module_version": "1.2.0",
          "model_name": "LayoutModel",
          "state": {
            "_model_module": "@jupyter-widgets/base",
            "_model_module_version": "1.2.0",
            "_model_name": "LayoutModel",
            "_view_count": null,
            "_view_module": "@jupyter-widgets/base",
            "_view_module_version": "1.2.0",
            "_view_name": "LayoutView",
            "align_content": null,
            "align_items": null,
            "align_self": null,
            "border": null,
            "bottom": null,
            "display": null,
            "flex": null,
            "flex_flow": null,
            "grid_area": null,
            "grid_auto_columns": null,
            "grid_auto_flow": null,
            "grid_auto_rows": null,
            "grid_column": null,
            "grid_gap": null,
            "grid_row": null,
            "grid_template_areas": null,
            "grid_template_columns": null,
            "grid_template_rows": null,
            "height": null,
            "justify_content": null,
            "justify_items": null,
            "left": null,
            "margin": null,
            "max_height": null,
            "max_width": null,
            "min_height": null,
            "min_width": null,
            "object_fit": null,
            "object_position": null,
            "order": null,
            "overflow": null,
            "overflow_x": null,
            "overflow_y": null,
            "padding": null,
            "right": null,
            "top": null,
            "visibility": null,
            "width": null
          }
        },
        "6165c477f3344f118971d33d2a36a9b2": {
          "model_module": "@jupyter-widgets/base",
          "model_module_version": "1.2.0",
          "model_name": "LayoutModel",
          "state": {
            "_model_module": "@jupyter-widgets/base",
            "_model_module_version": "1.2.0",
            "_model_name": "LayoutModel",
            "_view_count": null,
            "_view_module": "@jupyter-widgets/base",
            "_view_module_version": "1.2.0",
            "_view_name": "LayoutView",
            "align_content": null,
            "align_items": null,
            "align_self": null,
            "border": null,
            "bottom": null,
            "display": null,
            "flex": null,
            "flex_flow": null,
            "grid_area": null,
            "grid_auto_columns": null,
            "grid_auto_flow": null,
            "grid_auto_rows": null,
            "grid_column": null,
            "grid_gap": null,
            "grid_row": null,
            "grid_template_areas": null,
            "grid_template_columns": null,
            "grid_template_rows": null,
            "height": null,
            "justify_content": null,
            "justify_items": null,
            "left": null,
            "margin": null,
            "max_height": null,
            "max_width": null,
            "min_height": null,
            "min_width": null,
            "object_fit": null,
            "object_position": null,
            "order": null,
            "overflow": null,
            "overflow_x": null,
            "overflow_y": null,
            "padding": null,
            "right": null,
            "top": null,
            "visibility": null,
            "width": null
          }
        },
        "6c0b1373e35642308d30d7bde522196c": {
          "model_module": "@jupyter-widgets/controls",
          "model_module_version": "1.5.0",
          "model_name": "FloatProgressModel",
          "state": {
            "_dom_classes": [],
            "_model_module": "@jupyter-widgets/controls",
            "_model_module_version": "1.5.0",
            "_model_name": "FloatProgressModel",
            "_view_count": null,
            "_view_module": "@jupyter-widgets/controls",
            "_view_module_version": "1.5.0",
            "_view_name": "ProgressView",
            "bar_style": "success",
            "description": "",
            "description_tooltip": null,
            "layout": "IPY_MODEL_f64aef0c4d7b4b478dc566a8ec01d084",
            "max": 26421880,
            "min": 0,
            "orientation": "horizontal",
            "style": "IPY_MODEL_940b5ae483c648818d18a67fefef9e88",
            "value": 26421880
          }
        },
        "6ebdd403a61c4af29506876013c1db80": {
          "model_module": "@jupyter-widgets/controls",
          "model_module_version": "1.5.0",
          "model_name": "HTMLModel",
          "state": {
            "_dom_classes": [],
            "_model_module": "@jupyter-widgets/controls",
            "_model_module_version": "1.5.0",
            "_model_name": "HTMLModel",
            "_view_count": null,
            "_view_module": "@jupyter-widgets/controls",
            "_view_module_version": "1.5.0",
            "_view_name": "HTMLView",
            "description": "",
            "description_tooltip": null,
            "layout": "IPY_MODEL_c753fa61f18140c8b601a3c7837e15c3",
            "placeholder": "​",
            "style": "IPY_MODEL_2321a32e555245aab1a5873701382338",
            "value": "100%"
          }
        },
        "762d5630d99c427dad6200ec3a8ce11b": {
          "model_module": "@jupyter-widgets/controls",
          "model_module_version": "1.5.0",
          "model_name": "DescriptionStyleModel",
          "state": {
            "_model_module": "@jupyter-widgets/controls",
            "_model_module_version": "1.5.0",
            "_model_name": "DescriptionStyleModel",
            "_view_count": null,
            "_view_module": "@jupyter-widgets/base",
            "_view_module_version": "1.2.0",
            "_view_name": "StyleView",
            "description_width": ""
          }
        },
        "812e3c975c81449cb4f0607bf4426cf1": {
          "model_module": "@jupyter-widgets/controls",
          "model_module_version": "1.5.0",
          "model_name": "HTMLModel",
          "state": {
            "_dom_classes": [],
            "_model_module": "@jupyter-widgets/controls",
            "_model_module_version": "1.5.0",
            "_model_name": "HTMLModel",
            "_view_count": null,
            "_view_module": "@jupyter-widgets/controls",
            "_view_module_version": "1.5.0",
            "_view_name": "HTMLView",
            "description": "",
            "description_tooltip": null,
            "layout": "IPY_MODEL_91efa53c82014c349eb3227641b7c7c6",
            "placeholder": "​",
            "style": "IPY_MODEL_762d5630d99c427dad6200ec3a8ce11b",
            "value": "100%"
          }
        },
        "82bf328e5b1248359ba052d86701a0da": {
          "model_module": "@jupyter-widgets/controls",
          "model_module_version": "1.5.0",
          "model_name": "HTMLModel",
          "state": {
            "_dom_classes": [],
            "_model_module": "@jupyter-widgets/controls",
            "_model_module_version": "1.5.0",
            "_model_name": "HTMLModel",
            "_view_count": null,
            "_view_module": "@jupyter-widgets/controls",
            "_view_module_version": "1.5.0",
            "_view_name": "HTMLView",
            "description": "",
            "description_tooltip": null,
            "layout": "IPY_MODEL_5f79dab3afa44151aafaf60dd7b304bd",
            "placeholder": "​",
            "style": "IPY_MODEL_1cfbbc0500204bb4b13b8ad1b1660559",
            "value": " 4422102/4422102 [00:00&lt;00:00, 6545825.31it/s]"
          }
        },
        "91efa53c82014c349eb3227641b7c7c6": {
          "model_module": "@jupyter-widgets/base",
          "model_module_version": "1.2.0",
          "model_name": "LayoutModel",
          "state": {
            "_model_module": "@jupyter-widgets/base",
            "_model_module_version": "1.2.0",
            "_model_name": "LayoutModel",
            "_view_count": null,
            "_view_module": "@jupyter-widgets/base",
            "_view_module_version": "1.2.0",
            "_view_name": "LayoutView",
            "align_content": null,
            "align_items": null,
            "align_self": null,
            "border": null,
            "bottom": null,
            "display": null,
            "flex": null,
            "flex_flow": null,
            "grid_area": null,
            "grid_auto_columns": null,
            "grid_auto_flow": null,
            "grid_auto_rows": null,
            "grid_column": null,
            "grid_gap": null,
            "grid_row": null,
            "grid_template_areas": null,
            "grid_template_columns": null,
            "grid_template_rows": null,
            "height": null,
            "justify_content": null,
            "justify_items": null,
            "left": null,
            "margin": null,
            "max_height": null,
            "max_width": null,
            "min_height": null,
            "min_width": null,
            "object_fit": null,
            "object_position": null,
            "order": null,
            "overflow": null,
            "overflow_x": null,
            "overflow_y": null,
            "padding": null,
            "right": null,
            "top": null,
            "visibility": null,
            "width": null
          }
        },
        "940b5ae483c648818d18a67fefef9e88": {
          "model_module": "@jupyter-widgets/controls",
          "model_module_version": "1.5.0",
          "model_name": "ProgressStyleModel",
          "state": {
            "_model_module": "@jupyter-widgets/controls",
            "_model_module_version": "1.5.0",
            "_model_name": "ProgressStyleModel",
            "_view_count": null,
            "_view_module": "@jupyter-widgets/base",
            "_view_module_version": "1.2.0",
            "_view_name": "StyleView",
            "bar_color": null,
            "description_width": ""
          }
        },
        "9fc5d723a20c433591fd336d91ba7d3a": {
          "model_module": "@jupyter-widgets/controls",
          "model_module_version": "1.5.0",
          "model_name": "DescriptionStyleModel",
          "state": {
            "_model_module": "@jupyter-widgets/controls",
            "_model_module_version": "1.5.0",
            "_model_name": "DescriptionStyleModel",
            "_view_count": null,
            "_view_module": "@jupyter-widgets/base",
            "_view_module_version": "1.2.0",
            "_view_name": "StyleView",
            "description_width": ""
          }
        },
        "a6c40c690ff240889f3bdf19aad7ca3c": {
          "model_module": "@jupyter-widgets/base",
          "model_module_version": "1.2.0",
          "model_name": "LayoutModel",
          "state": {
            "_model_module": "@jupyter-widgets/base",
            "_model_module_version": "1.2.0",
            "_model_name": "LayoutModel",
            "_view_count": null,
            "_view_module": "@jupyter-widgets/base",
            "_view_module_version": "1.2.0",
            "_view_name": "LayoutView",
            "align_content": null,
            "align_items": null,
            "align_self": null,
            "border": null,
            "bottom": null,
            "display": null,
            "flex": null,
            "flex_flow": null,
            "grid_area": null,
            "grid_auto_columns": null,
            "grid_auto_flow": null,
            "grid_auto_rows": null,
            "grid_column": null,
            "grid_gap": null,
            "grid_row": null,
            "grid_template_areas": null,
            "grid_template_columns": null,
            "grid_template_rows": null,
            "height": null,
            "justify_content": null,
            "justify_items": null,
            "left": null,
            "margin": null,
            "max_height": null,
            "max_width": null,
            "min_height": null,
            "min_width": null,
            "object_fit": null,
            "object_position": null,
            "order": null,
            "overflow": null,
            "overflow_x": null,
            "overflow_y": null,
            "padding": null,
            "right": null,
            "top": null,
            "visibility": null,
            "width": null
          }
        },
        "a83049e656d647c2a75e4c790e7507a5": {
          "model_module": "@jupyter-widgets/base",
          "model_module_version": "1.2.0",
          "model_name": "LayoutModel",
          "state": {
            "_model_module": "@jupyter-widgets/base",
            "_model_module_version": "1.2.0",
            "_model_name": "LayoutModel",
            "_view_count": null,
            "_view_module": "@jupyter-widgets/base",
            "_view_module_version": "1.2.0",
            "_view_name": "LayoutView",
            "align_content": null,
            "align_items": null,
            "align_self": null,
            "border": null,
            "bottom": null,
            "display": null,
            "flex": null,
            "flex_flow": null,
            "grid_area": null,
            "grid_auto_columns": null,
            "grid_auto_flow": null,
            "grid_auto_rows": null,
            "grid_column": null,
            "grid_gap": null,
            "grid_row": null,
            "grid_template_areas": null,
            "grid_template_columns": null,
            "grid_template_rows": null,
            "height": null,
            "justify_content": null,
            "justify_items": null,
            "left": null,
            "margin": null,
            "max_height": null,
            "max_width": null,
            "min_height": null,
            "min_width": null,
            "object_fit": null,
            "object_position": null,
            "order": null,
            "overflow": null,
            "overflow_x": null,
            "overflow_y": null,
            "padding": null,
            "right": null,
            "top": null,
            "visibility": null,
            "width": null
          }
        },
        "ac7ada271e1a426f99efb24a1a4ae551": {
          "model_module": "@jupyter-widgets/controls",
          "model_module_version": "1.5.0",
          "model_name": "FloatProgressModel",
          "state": {
            "_dom_classes": [],
            "_model_module": "@jupyter-widgets/controls",
            "_model_module_version": "1.5.0",
            "_model_name": "FloatProgressModel",
            "_view_count": null,
            "_view_module": "@jupyter-widgets/controls",
            "_view_module_version": "1.5.0",
            "_view_name": "ProgressView",
            "bar_style": "success",
            "description": "",
            "description_tooltip": null,
            "layout": "IPY_MODEL_f0d49341d8e8443082cd2129b91cd7ce",
            "max": 29515,
            "min": 0,
            "orientation": "horizontal",
            "style": "IPY_MODEL_ce6c127461194141a285ad180a9c6038",
            "value": 29515
          }
        },
        "ad1ba2bd80da40c680db8fabab90a74f": {
          "model_module": "@jupyter-widgets/base",
          "model_module_version": "1.2.0",
          "model_name": "LayoutModel",
          "state": {
            "_model_module": "@jupyter-widgets/base",
            "_model_module_version": "1.2.0",
            "_model_name": "LayoutModel",
            "_view_count": null,
            "_view_module": "@jupyter-widgets/base",
            "_view_module_version": "1.2.0",
            "_view_name": "LayoutView",
            "align_content": null,
            "align_items": null,
            "align_self": null,
            "border": null,
            "bottom": null,
            "display": null,
            "flex": null,
            "flex_flow": null,
            "grid_area": null,
            "grid_auto_columns": null,
            "grid_auto_flow": null,
            "grid_auto_rows": null,
            "grid_column": null,
            "grid_gap": null,
            "grid_row": null,
            "grid_template_areas": null,
            "grid_template_columns": null,
            "grid_template_rows": null,
            "height": null,
            "justify_content": null,
            "justify_items": null,
            "left": null,
            "margin": null,
            "max_height": null,
            "max_width": null,
            "min_height": null,
            "min_width": null,
            "object_fit": null,
            "object_position": null,
            "order": null,
            "overflow": null,
            "overflow_x": null,
            "overflow_y": null,
            "padding": null,
            "right": null,
            "top": null,
            "visibility": null,
            "width": null
          }
        },
        "b2befd9df26640eeb59f2f39d4af60fe": {
          "model_module": "@jupyter-widgets/controls",
          "model_module_version": "1.5.0",
          "model_name": "HBoxModel",
          "state": {
            "_dom_classes": [],
            "_model_module": "@jupyter-widgets/controls",
            "_model_module_version": "1.5.0",
            "_model_name": "HBoxModel",
            "_view_count": null,
            "_view_module": "@jupyter-widgets/controls",
            "_view_module_version": "1.5.0",
            "_view_name": "HBoxView",
            "box_style": "",
            "children": [
              "IPY_MODEL_6ebdd403a61c4af29506876013c1db80",
              "IPY_MODEL_6c0b1373e35642308d30d7bde522196c",
              "IPY_MODEL_3bc213ed44504cdaab6f01f8eb7cdad2"
            ],
            "layout": "IPY_MODEL_06f9673245504249876cb2b20d2c747f"
          }
        },
        "bb0d73549063439782aa7503c7351d43": {
          "model_module": "@jupyter-widgets/base",
          "model_module_version": "1.2.0",
          "model_name": "LayoutModel",
          "state": {
            "_model_module": "@jupyter-widgets/base",
            "_model_module_version": "1.2.0",
            "_model_name": "LayoutModel",
            "_view_count": null,
            "_view_module": "@jupyter-widgets/base",
            "_view_module_version": "1.2.0",
            "_view_name": "LayoutView",
            "align_content": null,
            "align_items": null,
            "align_self": null,
            "border": null,
            "bottom": null,
            "display": null,
            "flex": null,
            "flex_flow": null,
            "grid_area": null,
            "grid_auto_columns": null,
            "grid_auto_flow": null,
            "grid_auto_rows": null,
            "grid_column": null,
            "grid_gap": null,
            "grid_row": null,
            "grid_template_areas": null,
            "grid_template_columns": null,
            "grid_template_rows": null,
            "height": null,
            "justify_content": null,
            "justify_items": null,
            "left": null,
            "margin": null,
            "max_height": null,
            "max_width": null,
            "min_height": null,
            "min_width": null,
            "object_fit": null,
            "object_position": null,
            "order": null,
            "overflow": null,
            "overflow_x": null,
            "overflow_y": null,
            "padding": null,
            "right": null,
            "top": null,
            "visibility": null,
            "width": null
          }
        },
        "c099504f95ce4427a45bd070405edefb": {
          "model_module": "@jupyter-widgets/base",
          "model_module_version": "1.2.0",
          "model_name": "LayoutModel",
          "state": {
            "_model_module": "@jupyter-widgets/base",
            "_model_module_version": "1.2.0",
            "_model_name": "LayoutModel",
            "_view_count": null,
            "_view_module": "@jupyter-widgets/base",
            "_view_module_version": "1.2.0",
            "_view_name": "LayoutView",
            "align_content": null,
            "align_items": null,
            "align_self": null,
            "border": null,
            "bottom": null,
            "display": null,
            "flex": null,
            "flex_flow": null,
            "grid_area": null,
            "grid_auto_columns": null,
            "grid_auto_flow": null,
            "grid_auto_rows": null,
            "grid_column": null,
            "grid_gap": null,
            "grid_row": null,
            "grid_template_areas": null,
            "grid_template_columns": null,
            "grid_template_rows": null,
            "height": null,
            "justify_content": null,
            "justify_items": null,
            "left": null,
            "margin": null,
            "max_height": null,
            "max_width": null,
            "min_height": null,
            "min_width": null,
            "object_fit": null,
            "object_position": null,
            "order": null,
            "overflow": null,
            "overflow_x": null,
            "overflow_y": null,
            "padding": null,
            "right": null,
            "top": null,
            "visibility": null,
            "width": null
          }
        },
        "c357ae705c454a92b5e6d6e2eb9ba768": {
          "model_module": "@jupyter-widgets/controls",
          "model_module_version": "1.5.0",
          "model_name": "HTMLModel",
          "state": {
            "_dom_classes": [],
            "_model_module": "@jupyter-widgets/controls",
            "_model_module_version": "1.5.0",
            "_model_name": "HTMLModel",
            "_view_count": null,
            "_view_module": "@jupyter-widgets/controls",
            "_view_module_version": "1.5.0",
            "_view_name": "HTMLView",
            "description": "",
            "description_tooltip": null,
            "layout": "IPY_MODEL_d095b5e4643b4f559386d03d05f7bee7",
            "placeholder": "​",
            "style": "IPY_MODEL_9fc5d723a20c433591fd336d91ba7d3a",
            "value": "100%"
          }
        },
        "c753fa61f18140c8b601a3c7837e15c3": {
          "model_module": "@jupyter-widgets/base",
          "model_module_version": "1.2.0",
          "model_name": "LayoutModel",
          "state": {
            "_model_module": "@jupyter-widgets/base",
            "_model_module_version": "1.2.0",
            "_model_name": "LayoutModel",
            "_view_count": null,
            "_view_module": "@jupyter-widgets/base",
            "_view_module_version": "1.2.0",
            "_view_name": "LayoutView",
            "align_content": null,
            "align_items": null,
            "align_self": null,
            "border": null,
            "bottom": null,
            "display": null,
            "flex": null,
            "flex_flow": null,
            "grid_area": null,
            "grid_auto_columns": null,
            "grid_auto_flow": null,
            "grid_auto_rows": null,
            "grid_column": null,
            "grid_gap": null,
            "grid_row": null,
            "grid_template_areas": null,
            "grid_template_columns": null,
            "grid_template_rows": null,
            "height": null,
            "justify_content": null,
            "justify_items": null,
            "left": null,
            "margin": null,
            "max_height": null,
            "max_width": null,
            "min_height": null,
            "min_width": null,
            "object_fit": null,
            "object_position": null,
            "order": null,
            "overflow": null,
            "overflow_x": null,
            "overflow_y": null,
            "padding": null,
            "right": null,
            "top": null,
            "visibility": null,
            "width": null
          }
        },
        "ccce07f9d0cc4e4c8f229bf3c503f2de": {
          "model_module": "@jupyter-widgets/controls",
          "model_module_version": "1.5.0",
          "model_name": "DescriptionStyleModel",
          "state": {
            "_model_module": "@jupyter-widgets/controls",
            "_model_module_version": "1.5.0",
            "_model_name": "DescriptionStyleModel",
            "_view_count": null,
            "_view_module": "@jupyter-widgets/base",
            "_view_module_version": "1.2.0",
            "_view_name": "StyleView",
            "description_width": ""
          }
        },
        "cd7b264633cd49de84d999e2dc64d5be": {
          "model_module": "@jupyter-widgets/controls",
          "model_module_version": "1.5.0",
          "model_name": "DescriptionStyleModel",
          "state": {
            "_model_module": "@jupyter-widgets/controls",
            "_model_module_version": "1.5.0",
            "_model_name": "DescriptionStyleModel",
            "_view_count": null,
            "_view_module": "@jupyter-widgets/base",
            "_view_module_version": "1.2.0",
            "_view_name": "StyleView",
            "description_width": ""
          }
        },
        "ce6c127461194141a285ad180a9c6038": {
          "model_module": "@jupyter-widgets/controls",
          "model_module_version": "1.5.0",
          "model_name": "ProgressStyleModel",
          "state": {
            "_model_module": "@jupyter-widgets/controls",
            "_model_module_version": "1.5.0",
            "_model_name": "ProgressStyleModel",
            "_view_count": null,
            "_view_module": "@jupyter-widgets/base",
            "_view_module_version": "1.2.0",
            "_view_name": "StyleView",
            "bar_color": null,
            "description_width": ""
          }
        },
        "d095b5e4643b4f559386d03d05f7bee7": {
          "model_module": "@jupyter-widgets/base",
          "model_module_version": "1.2.0",
          "model_name": "LayoutModel",
          "state": {
            "_model_module": "@jupyter-widgets/base",
            "_model_module_version": "1.2.0",
            "_model_name": "LayoutModel",
            "_view_count": null,
            "_view_module": "@jupyter-widgets/base",
            "_view_module_version": "1.2.0",
            "_view_name": "LayoutView",
            "align_content": null,
            "align_items": null,
            "align_self": null,
            "border": null,
            "bottom": null,
            "display": null,
            "flex": null,
            "flex_flow": null,
            "grid_area": null,
            "grid_auto_columns": null,
            "grid_auto_flow": null,
            "grid_auto_rows": null,
            "grid_column": null,
            "grid_gap": null,
            "grid_row": null,
            "grid_template_areas": null,
            "grid_template_columns": null,
            "grid_template_rows": null,
            "height": null,
            "justify_content": null,
            "justify_items": null,
            "left": null,
            "margin": null,
            "max_height": null,
            "max_width": null,
            "min_height": null,
            "min_width": null,
            "object_fit": null,
            "object_position": null,
            "order": null,
            "overflow": null,
            "overflow_x": null,
            "overflow_y": null,
            "padding": null,
            "right": null,
            "top": null,
            "visibility": null,
            "width": null
          }
        },
        "d9aa554053114e58b1a7781837556693": {
          "model_module": "@jupyter-widgets/controls",
          "model_module_version": "1.5.0",
          "model_name": "FloatProgressModel",
          "state": {
            "_dom_classes": [],
            "_model_module": "@jupyter-widgets/controls",
            "_model_module_version": "1.5.0",
            "_model_name": "FloatProgressModel",
            "_view_count": null,
            "_view_module": "@jupyter-widgets/controls",
            "_view_module_version": "1.5.0",
            "_view_name": "ProgressView",
            "bar_style": "success",
            "description": "",
            "description_tooltip": null,
            "layout": "IPY_MODEL_10fdb1505ec0487398a1e25c878619b8",
            "max": 4422102,
            "min": 0,
            "orientation": "horizontal",
            "style": "IPY_MODEL_2185f33656444b0a842a3048c15e4eec",
            "value": 4422102
          }
        },
        "e1c53decca6a4278a6bb1f065c7a43cd": {
          "model_module": "@jupyter-widgets/controls",
          "model_module_version": "1.5.0",
          "model_name": "ProgressStyleModel",
          "state": {
            "_model_module": "@jupyter-widgets/controls",
            "_model_module_version": "1.5.0",
            "_model_name": "ProgressStyleModel",
            "_view_count": null,
            "_view_module": "@jupyter-widgets/base",
            "_view_module_version": "1.2.0",
            "_view_name": "StyleView",
            "bar_color": null,
            "description_width": ""
          }
        },
        "e6f880170fa04ff281315a66b8914194": {
          "model_module": "@jupyter-widgets/controls",
          "model_module_version": "1.5.0",
          "model_name": "HTMLModel",
          "state": {
            "_dom_classes": [],
            "_model_module": "@jupyter-widgets/controls",
            "_model_module_version": "1.5.0",
            "_model_name": "HTMLModel",
            "_view_count": null,
            "_view_module": "@jupyter-widgets/controls",
            "_view_module_version": "1.5.0",
            "_view_name": "HTMLView",
            "description": "",
            "description_tooltip": null,
            "layout": "IPY_MODEL_c099504f95ce4427a45bd070405edefb",
            "placeholder": "​",
            "style": "IPY_MODEL_e9c6d81a33b8444fa2f54827544f1e0e",
            "value": " 5148/5148 [00:00&lt;00:00, 64689.95it/s]"
          }
        },
        "e9c6d81a33b8444fa2f54827544f1e0e": {
          "model_module": "@jupyter-widgets/controls",
          "model_module_version": "1.5.0",
          "model_name": "DescriptionStyleModel",
          "state": {
            "_model_module": "@jupyter-widgets/controls",
            "_model_module_version": "1.5.0",
            "_model_name": "DescriptionStyleModel",
            "_view_count": null,
            "_view_module": "@jupyter-widgets/base",
            "_view_module_version": "1.2.0",
            "_view_name": "StyleView",
            "description_width": ""
          }
        },
        "f0d49341d8e8443082cd2129b91cd7ce": {
          "model_module": "@jupyter-widgets/base",
          "model_module_version": "1.2.0",
          "model_name": "LayoutModel",
          "state": {
            "_model_module": "@jupyter-widgets/base",
            "_model_module_version": "1.2.0",
            "_model_name": "LayoutModel",
            "_view_count": null,
            "_view_module": "@jupyter-widgets/base",
            "_view_module_version": "1.2.0",
            "_view_name": "LayoutView",
            "align_content": null,
            "align_items": null,
            "align_self": null,
            "border": null,
            "bottom": null,
            "display": null,
            "flex": null,
            "flex_flow": null,
            "grid_area": null,
            "grid_auto_columns": null,
            "grid_auto_flow": null,
            "grid_auto_rows": null,
            "grid_column": null,
            "grid_gap": null,
            "grid_row": null,
            "grid_template_areas": null,
            "grid_template_columns": null,
            "grid_template_rows": null,
            "height": null,
            "justify_content": null,
            "justify_items": null,
            "left": null,
            "margin": null,
            "max_height": null,
            "max_width": null,
            "min_height": null,
            "min_width": null,
            "object_fit": null,
            "object_position": null,
            "order": null,
            "overflow": null,
            "overflow_x": null,
            "overflow_y": null,
            "padding": null,
            "right": null,
            "top": null,
            "visibility": null,
            "width": null
          }
        },
        "f64aef0c4d7b4b478dc566a8ec01d084": {
          "model_module": "@jupyter-widgets/base",
          "model_module_version": "1.2.0",
          "model_name": "LayoutModel",
          "state": {
            "_model_module": "@jupyter-widgets/base",
            "_model_module_version": "1.2.0",
            "_model_name": "LayoutModel",
            "_view_count": null,
            "_view_module": "@jupyter-widgets/base",
            "_view_module_version": "1.2.0",
            "_view_name": "LayoutView",
            "align_content": null,
            "align_items": null,
            "align_self": null,
            "border": null,
            "bottom": null,
            "display": null,
            "flex": null,
            "flex_flow": null,
            "grid_area": null,
            "grid_auto_columns": null,
            "grid_auto_flow": null,
            "grid_auto_rows": null,
            "grid_column": null,
            "grid_gap": null,
            "grid_row": null,
            "grid_template_areas": null,
            "grid_template_columns": null,
            "grid_template_rows": null,
            "height": null,
            "justify_content": null,
            "justify_items": null,
            "left": null,
            "margin": null,
            "max_height": null,
            "max_width": null,
            "min_height": null,
            "min_width": null,
            "object_fit": null,
            "object_position": null,
            "order": null,
            "overflow": null,
            "overflow_x": null,
            "overflow_y": null,
            "padding": null,
            "right": null,
            "top": null,
            "visibility": null,
            "width": null
          }
        }
      }
    }
  },
  "nbformat": 4,
  "nbformat_minor": 0
}
